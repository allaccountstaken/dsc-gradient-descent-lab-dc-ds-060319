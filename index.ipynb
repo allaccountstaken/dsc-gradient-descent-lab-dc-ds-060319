{
 "cells": [
  {
   "cell_type": "markdown",
   "metadata": {},
   "source": [
    "# Gradient Descent - Lab\n",
    "\n",
    "## Introduction\n",
    "\n",
    "In this lab, you'll continue to formalize your knowledge of gradient descent by coding the algorithm yourself. In the upcoming labs, you'll apply similar procedures to implement logistic regression on your own.\n",
    "\n",
    "## Objectives\n",
    "You will be able to:\n",
    "* Create a full gradient descent algorithm"
   ]
  },
  {
   "cell_type": "markdown",
   "metadata": {},
   "source": [
    "## Using Gradient Descent to Minimize OLS\n",
    "\n",
    "In order to practice gradient descent, you'll investigate a simple regression case in which you're looking to minimize the Residual Sum of Squares (RSS) between the predictions and the actual values. Remember that this is referred to Ordinary Least Squares (OLS) regression. Below, is a mock dataset that to work with. Preview the dataset. Then, you'll compare two simplistic models. From there, you'll use gradient descent to improve upon these  initial models.\n",
    "\n",
    "## Loading the Dataset"
   ]
  },
  {
   "cell_type": "code",
   "execution_count": 2,
   "metadata": {},
   "outputs": [
    {
     "data": {
      "text/html": [
       "<div>\n",
       "<style scoped>\n",
       "    .dataframe tbody tr th:only-of-type {\n",
       "        vertical-align: middle;\n",
       "    }\n",
       "\n",
       "    .dataframe tbody tr th {\n",
       "        vertical-align: top;\n",
       "    }\n",
       "\n",
       "    .dataframe thead th {\n",
       "        text-align: right;\n",
       "    }\n",
       "</style>\n",
       "<table border=\"1\" class=\"dataframe\">\n",
       "  <thead>\n",
       "    <tr style=\"text-align: right;\">\n",
       "      <th></th>\n",
       "      <th>budget</th>\n",
       "      <th>domgross</th>\n",
       "      <th>title</th>\n",
       "    </tr>\n",
       "  </thead>\n",
       "  <tbody>\n",
       "    <tr>\n",
       "      <th>0</th>\n",
       "      <td>13000000</td>\n",
       "      <td>25682380</td>\n",
       "      <td>21 &amp;amp; Over</td>\n",
       "    </tr>\n",
       "    <tr>\n",
       "      <th>1</th>\n",
       "      <td>45658735</td>\n",
       "      <td>13414714</td>\n",
       "      <td>Dredd 3D</td>\n",
       "    </tr>\n",
       "    <tr>\n",
       "      <th>2</th>\n",
       "      <td>20000000</td>\n",
       "      <td>53107035</td>\n",
       "      <td>12 Years a Slave</td>\n",
       "    </tr>\n",
       "    <tr>\n",
       "      <th>3</th>\n",
       "      <td>61000000</td>\n",
       "      <td>75612460</td>\n",
       "      <td>2 Guns</td>\n",
       "    </tr>\n",
       "    <tr>\n",
       "      <th>4</th>\n",
       "      <td>40000000</td>\n",
       "      <td>95020213</td>\n",
       "      <td>42</td>\n",
       "    </tr>\n",
       "  </tbody>\n",
       "</table>\n",
       "</div>"
      ],
      "text/plain": [
       "     budget  domgross             title\n",
       "0  13000000  25682380     21 &amp; Over\n",
       "1  45658735  13414714          Dredd 3D\n",
       "2  20000000  53107035  12 Years a Slave\n",
       "3  61000000  75612460            2 Guns\n",
       "4  40000000  95020213                42"
      ]
     },
     "execution_count": 2,
     "metadata": {},
     "output_type": "execute_result"
    }
   ],
   "source": [
    "#The dataset\n",
    "import pandas as pd\n",
    "df = pd.read_excel('movie_data.xlsx')\n",
    "df.head()"
   ]
  },
  {
   "cell_type": "markdown",
   "metadata": {},
   "source": [
    "## Two Simplistic Models\n",
    "\n",
    "Imagine someone is attempting to predict the domestic gross sales of a movie based on the movie's budget, or at least further investigate how these two quantities are related. Two models are suggested, and need to be compared.  \n",
    "The two models are:  \n",
    "$\\text{domgross} = 1.575 \\cdot \\text{budget}$  \n",
    "$\\text{domgross} = 1.331 \\cdot \\text{budget}$  \n",
    "Here's a graph of the two models along with the actual data:"
   ]
  },
  {
   "cell_type": "code",
   "execution_count": 4,
   "metadata": {},
   "outputs": [
    {
     "data": {
      "image/png": "[encoded data removed]",
      "text/plain": [
       "<Figure size 432x288 with 1 Axes>"
      ]
     },
     "metadata": {
      "needs_background": "light"
     },
     "output_type": "display_data"
    }
   ],
   "source": [
    "import numpy as np\n",
    "import matplotlib.pyplot as plt\n",
    "%matplotlib inline\n",
    "\n",
    "x = np.linspace(start=df.budget.min(), stop=df.budget.max(), num=10**5)\n",
    "plt.scatter(x, 1.575*x, label='Mean Ratio Model') #Model 1\n",
    "plt.scatter(x, 1.331*x, label='Median Ratio Model') #Model 2\n",
    "plt.scatter(df.budget, df.domgross, label='Actual Data Points')\n",
    "plt.title('Gross Domestic Sales vs. Budget', fontsize=20)\n",
    "plt.xlabel('Budget', fontsize=16)\n",
    "plt.ylabel('Gross Domestic Sales', fontsize=16)\n",
    "plt.legend(bbox_to_anchor=(1,1))\n",
    "plt.show()"
   ]
  },
  {
   "cell_type": "markdown",
   "metadata": {},
   "source": [
    "## Error/Loss Functions\n",
    "\n",
    "In order to compare the two models (and future ones), a metric for evaluating and comparing models to each other is needed. Traditionally this is the residual sum of squares. As such you are looking to minimize  $ \\sum(\\hat{y}-y)^2$.\n",
    "Write a function **rss(m)** which calculates the residual sum of squares for a simplistic model $\\text{domgross} = m \\cdot \\text{budget}$."
   ]
  },
  {
   "cell_type": "code",
   "execution_count": 7,
   "metadata": {},
   "outputs": [],
   "source": [
    "def rss(m, X=df.budget, y=df.domgross):\n",
    "    model = m * X\n",
    "    residuals = model - y \n",
    "    total_rss = residuals.map(lambda r: r**2).sum()\n",
    "    return total_rss"
   ]
  },
  {
   "cell_type": "markdown",
   "metadata": {},
   "source": [
    "## Run your RSS function on the two models\n",
    "Which of the two models is better?"
   ]
  },
  {
   "cell_type": "code",
   "execution_count": 12,
   "metadata": {},
   "outputs": [
    {
     "name": "stdout",
     "output_type": "stream",
     "text": [
      "Model 1 :  2.7893617409554173e+17\n",
      "Model 2 :  2.3547212057814554e+17\n"
     ]
    }
   ],
   "source": [
    "#Your code here\n",
    "#Model 1 - domgross=1.575⋅budget\n",
    "#Model 2 - domgross=1.331⋅budget\n",
    "print('Model 1 : ', rss(1.5875))\n",
    "print('Model 2 : ', rss(1.331))"
   ]
  },
  {
   "cell_type": "code",
   "execution_count": null,
   "metadata": {},
   "outputs": [],
   "source": [
    "#Your response here:\n",
    "#Second model has smaller RSS and thus it is better"
   ]
  },
  {
   "cell_type": "markdown",
   "metadata": {},
   "source": [
    "## Gradient Descent\n",
    "\n",
    "Now that you have a loss function, you can use numerical methods to find a minimum to the loss function. By minimizing the loss function, you have achieved an optimal solution according to the problem formulation. Here's the outline of gradient descent from the previous lesson:  \n",
    "\n",
    "1. Define initial parameters:\n",
    "    1. pick a starting point\n",
    "    2. pick a step size $\\alpha$ (alpha)\n",
    "    3. choose a maximum number of iterations; the algorithm will terminate after this many iterations if a minimum has yet to be found\n",
    "    4. (optionally) define a precision parameter; similar to the maximum number of iterations, this will terminate the algorithm early. For example, one might define a precision parameter of 0.00001, in which case if the change in the loss function were less then 0.00001, the algorithm would terminate. The idea is that we are very close to the bottom and further iterations would make a negligible difference.\n",
    "2. Calculate the gradient at the current point (initially, the starting point)\n",
    "3. Take a step (of size alpha) in the direction of the gradient\n",
    "4. Repeat steps 2 and 3 until the maximum number of iterations is met, or the difference between two points is less then your precision parameter  \n",
    "\n",
    "To start, visualize the cost function. Plot the cost function output for a range of m values from -3 to 5."
   ]
  },
  {
   "cell_type": "code",
   "execution_count": 15,
   "metadata": {},
   "outputs": [
    {
     "data": {
      "image/png": "[encoded data removed]",
      "text/plain": [
       "<Figure size 432x288 with 1 Axes>"
      ]
     },
     "metadata": {
      "needs_background": "light"
     },
     "output_type": "display_data"
    }
   ],
   "source": [
    "#Your code here\n",
    "x = np.linspace(start=-3, stop=5, num=10**3 )\n",
    "y = [rss(xi) for xi in x]\n",
    "plt.plot(x, y)\n",
    "plt.title('RSS for various values of m')\n",
    "plt.show()"
   ]
  },
  {
   "cell_type": "markdown",
   "metadata": {},
   "source": [
    "As you can see, this is a simple cost function. The minimum is clearly around 1. With that, it's time to implement gradient descent in order to find the optimal value for m."
   ]
  },
  {
   "cell_type": "code",
   "execution_count": null,
   "metadata": {},
   "outputs": [
    {
     "name": "stdout",
     "output_type": "stream",
     "text": [
      "Current value : 1.5 RSS produced: 2.6084668957174013e+17\n",
      "Current value : 1.133065571442482 RSS produced: 2.2177730533770314e+17\n",
      "Current value : 1.0788893841914178 RSS produced: 2.2104237886318205e+17\n",
      "Current value : 1.0754601133071364 RSS produced: 2.2103944341232006e+17\n",
      "Current value : 1.0752487358254494 RSS produced: 2.210394322595374e+17\n",
      "Current value : 1.0752357080906811 RSS produced: 2.2103943221717267e+17\n",
      "Current value : 1.0752349051583978 RSS produced: 2.2103943221701178e+17\n",
      "Current value : 1.0752348556716504 RSS produced: 2.2103943221701114e+17\n",
      "Current value : 1.075234852621654 RSS produced: 2.2103943221701114e+17\n",
      "Current value : 1.075234852433676 RSS produced: 2.210394322170111e+17\n",
      "Current value : 1.0752348524220947 RSS produced: 2.2103943221701114e+17\n",
      "Current value : 1.0752348524213764 RSS produced: 2.2103943221701114e+17\n",
      "Current value : 1.0752348524213347 RSS produced: 2.2103943221701114e+17\n",
      "Current value : 1.0752348524213258 RSS produced: 2.210394322170112e+17\n",
      "Current value : 1.0752348524213258 RSS produced: 2.210394322170112e+17\n",
      "Current value : 1.0752348524213258 RSS produced: 2.210394322170112e+17\n",
      "Current value : 1.0752348524213258 RSS produced: 2.210394322170112e+17\n",
      "Current value : 1.0752348524213258 RSS produced: 2.210394322170112e+17\n",
      "Current value : 1.0752348524213258 RSS produced: 2.210394322170112e+17\n",
      "Current value : 1.0752348524213258 RSS produced: 2.210394322170112e+17\n",
      "Current value : 1.0752348524213258 RSS produced: 2.210394322170112e+17\n",
      "Current value : 1.0752348524213258 RSS produced: 2.210394322170112e+17\n",
      "Current value : 1.0752348524213258 RSS produced: 2.210394322170112e+17\n",
      "Current value : 1.0752348524213258 RSS produced: 2.210394322170112e+17\n",
      "Current value : 1.0752348524213258 RSS produced: 2.210394322170112e+17\n",
      "Current value : 1.0752348524213258 RSS produced: 2.210394322170112e+17\n",
      "Current value : 1.0752348524213258 RSS produced: 2.210394322170112e+17\n",
      "Current value : 1.0752348524213258 RSS produced: 2.210394322170112e+17\n",
      "Current value : 1.0752348524213258 RSS produced: 2.210394322170112e+17\n",
      "Current value : 1.0752348524213258 RSS produced: 2.210394322170112e+17\n",
      "Current value : 1.0752348524213258 RSS produced: 2.210394322170112e+17\n",
      "Current value : 1.0752348524213258 RSS produced: 2.210394322170112e+17\n",
      "Current value : 1.0752348524213258 RSS produced: 2.210394322170112e+17\n",
      "Current value : 1.0752348524213258 RSS produced: 2.210394322170112e+17\n",
      "Current value : 1.0752348524213258 RSS produced: 2.210394322170112e+17\n",
      "Current value : 1.0752348524213258 RSS produced: 2.210394322170112e+17\n",
      "Current value : 1.0752348524213258 RSS produced: 2.210394322170112e+17\n",
      "Current value : 1.0752348524213258 RSS produced: 2.210394322170112e+17\n",
      "Current value : 1.0752348524213258 RSS produced: 2.210394322170112e+17\n",
      "Current value : 1.0752348524213258 RSS produced: 2.210394322170112e+17\n",
      "Current value : 1.0752348524213258 RSS produced: 2.210394322170112e+17\n",
      "Current value : 1.0752348524213258 RSS produced: 2.210394322170112e+17\n",
      "Current value : 1.0752348524213258 RSS produced: 2.210394322170112e+17\n",
      "Current value : 1.0752348524213258 RSS produced: 2.210394322170112e+17\n",
      "Current value : 1.0752348524213258 RSS produced: 2.210394322170112e+17\n",
      "Current value : 1.0752348524213258 RSS produced: 2.210394322170112e+17\n",
      "Current value : 1.0752348524213258 RSS produced: 2.210394322170112e+17\n",
      "Current value : 1.0752348524213258 RSS produced: 2.210394322170112e+17\n",
      "Current value : 1.0752348524213258 RSS produced: 2.210394322170112e+17\n",
      "Current value : 1.0752348524213258 RSS produced: 2.210394322170112e+17\n",
      "Current value : 1.0752348524213258 RSS produced: 2.210394322170112e+17\n",
      "Current value : 1.0752348524213258 RSS produced: 2.210394322170112e+17\n",
      "Current value : 1.0752348524213258 RSS produced: 2.210394322170112e+17\n",
      "Current value : 1.0752348524213258 RSS produced: 2.210394322170112e+17\n",
      "Current value : 1.0752348524213258 RSS produced: 2.210394322170112e+17\n",
      "Current value : 1.0752348524213258 RSS produced: 2.210394322170112e+17\n",
      "Current value : 1.0752348524213258 RSS produced: 2.210394322170112e+17\n",
      "Current value : 1.0752348524213258 RSS produced: 2.210394322170112e+17\n",
      "Current value : 1.0752348524213258 RSS produced: 2.210394322170112e+17\n",
      "Current value : 1.0752348524213258 RSS produced: 2.210394322170112e+17\n",
      "Current value : 1.0752348524213258 RSS produced: 2.210394322170112e+17\n",
      "Current value : 1.0752348524213258 RSS produced: 2.210394322170112e+17\n",
      "Current value : 1.0752348524213258 RSS produced: 2.210394322170112e+17\n",
      "Current value : 1.0752348524213258 RSS produced: 2.210394322170112e+17\n",
      "Current value : 1.0752348524213258 RSS produced: 2.210394322170112e+17\n",
      "Current value : 1.0752348524213258 RSS produced: 2.210394322170112e+17\n",
      "Current value : 1.0752348524213258 RSS produced: 2.210394322170112e+17\n",
      "Current value : 1.0752348524213258 RSS produced: 2.210394322170112e+17\n",
      "Current value : 1.0752348524213258 RSS produced: 2.210394322170112e+17\n",
      "Current value : 1.0752348524213258 RSS produced: 2.210394322170112e+17\n",
      "Current value : 1.0752348524213258 RSS produced: 2.210394322170112e+17\n",
      "Current value : 1.0752348524213258 RSS produced: 2.210394322170112e+17\n",
      "Current value : 1.0752348524213258 RSS produced: 2.210394322170112e+17\n",
      "Current value : 1.0752348524213258 RSS produced: 2.210394322170112e+17\n",
      "Current value : 1.0752348524213258 RSS produced: 2.210394322170112e+17\n",
      "Current value : 1.0752348524213258 RSS produced: 2.210394322170112e+17\n",
      "Current value : 1.0752348524213258 RSS produced: 2.210394322170112e+17\n",
      "Current value : 1.0752348524213258 RSS produced: 2.210394322170112e+17\n",
      "Current value : 1.0752348524213258 RSS produced: 2.210394322170112e+17\n",
      "Current value : 1.0752348524213258 RSS produced: 2.210394322170112e+17\n",
      "Current value : 1.0752348524213258 RSS produced: 2.210394322170112e+17\n",
      "Current value : 1.0752348524213258 RSS produced: 2.210394322170112e+17\n",
      "Current value : 1.0752348524213258 RSS produced: 2.210394322170112e+17\n",
      "Current value : 1.0752348524213258 RSS produced: 2.210394322170112e+17\n",
      "Current value : 1.0752348524213258 RSS produced: 2.210394322170112e+17\n",
      "Current value : 1.0752348524213258 RSS produced: 2.210394322170112e+17\n",
      "Current value : 1.0752348524213258 RSS produced: 2.210394322170112e+17\n",
      "Current value : 1.0752348524213258 RSS produced: 2.210394322170112e+17\n",
      "Current value : 1.0752348524213258 RSS produced: 2.210394322170112e+17\n",
      "Current value : 1.0752348524213258 RSS produced: 2.210394322170112e+17\n",
      "Current value : 1.0752348524213258 RSS produced: 2.210394322170112e+17\n",
      "Current value : 1.0752348524213258 RSS produced: 2.210394322170112e+17\n",
      "Current value : 1.0752348524213258 RSS produced: 2.210394322170112e+17\n",
      "Current value : 1.0752348524213258 RSS produced: 2.210394322170112e+17\n",
      "Current value : 1.0752348524213258 RSS produced: 2.210394322170112e+17\n",
      "Current value : 1.0752348524213258 RSS produced: 2.210394322170112e+17\n",
      "Current value : 1.0752348524213258 RSS produced: 2.210394322170112e+17\n",
      "Current value : 1.0752348524213258 RSS produced: 2.210394322170112e+17\n",
      "Current value : 1.0752348524213258 RSS produced: 2.210394322170112e+17\n",
      "Current value : 1.0752348524213258 RSS produced: 2.210394322170112e+17\n",
      "Current value : 1.0752348524213258 RSS produced: 2.210394322170112e+17\n",
      "Current value : 1.0752348524213258 RSS produced: 2.210394322170112e+17\n",
      "Current value : 1.0752348524213258 RSS produced: 2.210394322170112e+17\n",
      "Current value : 1.0752348524213258 RSS produced: 2.210394322170112e+17\n",
      "Current value : 1.0752348524213258 RSS produced: 2.210394322170112e+17\n",
      "Current value : 1.0752348524213258 RSS produced: 2.210394322170112e+17\n",
      "Current value : 1.0752348524213258 RSS produced: 2.210394322170112e+17\n",
      "Current value : 1.0752348524213258 RSS produced: 2.210394322170112e+17\n",
      "Current value : 1.0752348524213258 RSS produced: 2.210394322170112e+17\n",
      "Current value : 1.0752348524213258 RSS produced: 2.210394322170112e+17\n",
      "Current value : 1.0752348524213258 RSS produced: 2.210394322170112e+17\n",
      "Current value : 1.0752348524213258 RSS produced: 2.210394322170112e+17\n",
      "Current value : 1.0752348524213258 RSS produced: 2.210394322170112e+17\n",
      "Current value : 1.0752348524213258 RSS produced: 2.210394322170112e+17\n",
      "Current value : 1.0752348524213258 RSS produced: 2.210394322170112e+17\n",
      "Current value : 1.0752348524213258 RSS produced: 2.210394322170112e+17\n",
      "Current value : 1.0752348524213258 RSS produced: 2.210394322170112e+17\n",
      "Current value : 1.0752348524213258 RSS produced: 2.210394322170112e+17\n",
      "Current value : 1.0752348524213258 RSS produced: 2.210394322170112e+17\n",
      "Current value : 1.0752348524213258 RSS produced: 2.210394322170112e+17\n",
      "Current value : 1.0752348524213258 RSS produced: 2.210394322170112e+17\n",
      "Current value : 1.0752348524213258 RSS produced: 2.210394322170112e+17\n",
      "Current value : 1.0752348524213258 RSS produced: 2.210394322170112e+17\n",
      "Current value : 1.0752348524213258 RSS produced: 2.210394322170112e+17\n",
      "Current value : 1.0752348524213258 RSS produced: 2.210394322170112e+17\n",
      "Current value : 1.0752348524213258 RSS produced: 2.210394322170112e+17\n",
      "Current value : 1.0752348524213258 RSS produced: 2.210394322170112e+17\n",
      "Current value : 1.0752348524213258 RSS produced: 2.210394322170112e+17\n",
      "Current value : 1.0752348524213258 RSS produced: 2.210394322170112e+17\n"
     ]
    },
    {
     "name": "stdout",
     "output_type": "stream",
     "text": [
      "Current value : 1.0752348524213258 RSS produced: 2.210394322170112e+17\n",
      "Current value : 1.0752348524213258 RSS produced: 2.210394322170112e+17\n",
      "Current value : 1.0752348524213258 RSS produced: 2.210394322170112e+17\n",
      "Current value : 1.0752348524213258 RSS produced: 2.210394322170112e+17\n",
      "Current value : 1.0752348524213258 RSS produced: 2.210394322170112e+17\n",
      "Current value : 1.0752348524213258 RSS produced: 2.210394322170112e+17\n",
      "Current value : 1.0752348524213258 RSS produced: 2.210394322170112e+17\n",
      "Current value : 1.0752348524213258 RSS produced: 2.210394322170112e+17\n",
      "Current value : 1.0752348524213258 RSS produced: 2.210394322170112e+17\n",
      "Current value : 1.0752348524213258 RSS produced: 2.210394322170112e+17\n",
      "Current value : 1.0752348524213258 RSS produced: 2.210394322170112e+17\n",
      "Current value : 1.0752348524213258 RSS produced: 2.210394322170112e+17\n",
      "Current value : 1.0752348524213258 RSS produced: 2.210394322170112e+17\n",
      "Current value : 1.0752348524213258 RSS produced: 2.210394322170112e+17\n",
      "Current value : 1.0752348524213258 RSS produced: 2.210394322170112e+17\n",
      "Current value : 1.0752348524213258 RSS produced: 2.210394322170112e+17\n",
      "Current value : 1.0752348524213258 RSS produced: 2.210394322170112e+17\n",
      "Current value : 1.0752348524213258 RSS produced: 2.210394322170112e+17\n",
      "Current value : 1.0752348524213258 RSS produced: 2.210394322170112e+17\n",
      "Current value : 1.0752348524213258 RSS produced: 2.210394322170112e+17\n",
      "Current value : 1.0752348524213258 RSS produced: 2.210394322170112e+17\n",
      "Current value : 1.0752348524213258 RSS produced: 2.210394322170112e+17\n",
      "Current value : 1.0752348524213258 RSS produced: 2.210394322170112e+17\n",
      "Current value : 1.0752348524213258 RSS produced: 2.210394322170112e+17\n",
      "Current value : 1.0752348524213258 RSS produced: 2.210394322170112e+17\n",
      "Current value : 1.0752348524213258 RSS produced: 2.210394322170112e+17\n",
      "Current value : 1.0752348524213258 RSS produced: 2.210394322170112e+17\n",
      "Current value : 1.0752348524213258 RSS produced: 2.210394322170112e+17\n",
      "Current value : 1.0752348524213258 RSS produced: 2.210394322170112e+17\n",
      "Current value : 1.0752348524213258 RSS produced: 2.210394322170112e+17\n",
      "Current value : 1.0752348524213258 RSS produced: 2.210394322170112e+17\n",
      "Current value : 1.0752348524213258 RSS produced: 2.210394322170112e+17\n",
      "Current value : 1.0752348524213258 RSS produced: 2.210394322170112e+17\n",
      "Current value : 1.0752348524213258 RSS produced: 2.210394322170112e+17\n",
      "Current value : 1.0752348524213258 RSS produced: 2.210394322170112e+17\n",
      "Current value : 1.0752348524213258 RSS produced: 2.210394322170112e+17\n",
      "Current value : 1.0752348524213258 RSS produced: 2.210394322170112e+17\n",
      "Current value : 1.0752348524213258 RSS produced: 2.210394322170112e+17\n",
      "Current value : 1.0752348524213258 RSS produced: 2.210394322170112e+17\n",
      "Current value : 1.0752348524213258 RSS produced: 2.210394322170112e+17\n",
      "Current value : 1.0752348524213258 RSS produced: 2.210394322170112e+17\n",
      "Current value : 1.0752348524213258 RSS produced: 2.210394322170112e+17\n",
      "Current value : 1.0752348524213258 RSS produced: 2.210394322170112e+17\n",
      "Current value : 1.0752348524213258 RSS produced: 2.210394322170112e+17\n",
      "Current value : 1.0752348524213258 RSS produced: 2.210394322170112e+17\n",
      "Current value : 1.0752348524213258 RSS produced: 2.210394322170112e+17\n",
      "Current value : 1.0752348524213258 RSS produced: 2.210394322170112e+17\n",
      "Current value : 1.0752348524213258 RSS produced: 2.210394322170112e+17\n",
      "Current value : 1.0752348524213258 RSS produced: 2.210394322170112e+17\n",
      "Current value : 1.0752348524213258 RSS produced: 2.210394322170112e+17\n",
      "Current value : 1.0752348524213258 RSS produced: 2.210394322170112e+17\n",
      "Current value : 1.0752348524213258 RSS produced: 2.210394322170112e+17\n",
      "Current value : 1.0752348524213258 RSS produced: 2.210394322170112e+17\n",
      "Current value : 1.0752348524213258 RSS produced: 2.210394322170112e+17\n",
      "Current value : 1.0752348524213258 RSS produced: 2.210394322170112e+17\n"
     ]
    }
   ],
   "source": [
    "-"
   ]
  },
  {
   "cell_type": "markdown",
   "metadata": {},
   "source": [
    "## Plot the minimum on your graph\n",
    "Replot the RSS cost curve as above. Add a red dot for the minimum of this graph using the solution from your gradient descent function above."
   ]
  },
  {
   "cell_type": "code",
   "execution_count": null,
   "metadata": {},
   "outputs": [],
   "source": [
    "#Your code here"
   ]
  },
  {
   "cell_type": "markdown",
   "metadata": {},
   "source": [
    "## Summary \n",
    "\n",
    "In this lab you coded up a gradient descent algorithm from scratch! In the next lab, you'll apply this to logistic regression in order to create a full implementation yourself!"
   ]
  }
 ],
 "metadata": {
  "kernelspec": {
   "display_name": "Python 3",
   "language": "python",
   "name": "python3"
  },
  "language_info": {
   "codemirror_mode": {
    "name": "ipython",
    "version": 3
   },
   "file_extension": ".py",
   "mimetype": "text/x-python",
   "name": "python",
   "nbconvert_exporter": "python",
   "pygments_lexer": "ipython3",
   "version": "3.6.6"
  }
 },
 "nbformat": 4,
 "nbformat_minor": 2
}
